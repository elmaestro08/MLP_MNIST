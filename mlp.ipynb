{
 "cells": [
  {
   "cell_type": "markdown",
   "metadata": {},
   "source": [
    "# Multilayer Perceptron code for Digit Classification\n",
    "\n",
    "The notebook walks through the MLP (Shallow Neural Network) with a hidden layer of size 1000 units and output layer of 10 units. The notebook provides the computational graph perspective of the MLP by implementing the forward propagation, cost function and backward propagation functions. \n",
    "\n",
    "The network is trained for 10 epochs with a random minibatch size of 5 on the training dataset of size 50,000 images. It is tested on the validation dataset of 10,000 images which achieved an accuracy of 92.73%."
   ]
  },
  {
   "cell_type": "code",
   "execution_count": 26,
   "metadata": {},
   "outputs": [],
   "source": [
    "#Import packages\n",
    "import numpy as np\n",
    "import matplotlib.pyplot as plt\n",
    "import math\n",
    "import os\n",
    "import gzip\n",
    "import pickle\n",
    "%matplotlib inline"
   ]
  },
  {
   "cell_type": "code",
   "execution_count": 2,
   "metadata": {},
   "outputs": [],
   "source": [
    "def load_dataset(dataset):\n",
    "    #Assumes mnist is downloaded and in the same path as this notebook\n",
    "    # Load the dataset\n",
    "    with gzip.open('mnist.pkl.gz', 'rb') as f:\n",
    "        u = pickle._Unpickler(f)\n",
    "        u.encoding = 'latin1'\n",
    "        train_set, valid_set, test_set = u.load()\n",
    "    f.close()\n",
    "\n",
    "    Xtrain = np.array(train_set[0]).T\n",
    "    Ytrain = np.array(train_set[1])\n",
    "    Ytrain = Ytrain.reshape((1,Ytrain.shape[0]))\n",
    "    Xvalid = np.array(valid_set[0]).T\n",
    "    Yvalid = np.array(valid_set[1])\n",
    "    Yvalid = Yvalid.reshape((1, Yvalid.shape[0]))\n",
    "    Xtest = np.array(test_set[0]).T\n",
    "    Ytest = np.array(test_set[1])\n",
    "    Ytest = Ytest.reshape((1, Ytest.shape[0]))\n",
    "\n",
    "    return Xtrain, Ytrain, Xvalid, Yvalid, Xtest, Ytest"
   ]
  },
  {
   "cell_type": "code",
   "execution_count": 3,
   "metadata": {},
   "outputs": [],
   "source": [
    "def random_mini_batches(X, Y, mini_batch_size = 5, seed = 0):\n",
    "    '''\n",
    "    Parameters:   \n",
    "    X - Input data of size (n_x, m) \n",
    "    Y - True labels vector (1, m) \n",
    "    mini_batch_size - size of minibatches, integer \n",
    "    \n",
    "    Returns:\n",
    "    mini_batches - list of synchronous (mini_batch_X, mini_batch_Y)\n",
    "    '''\n",
    "    \n",
    "    np.random.seed(seed)\n",
    "    m = X.shape[1]\n",
    "    mini_batches = []\n",
    "    \n",
    "    #Step 1: Shuffle (X, Y)\n",
    "    permutation = list(np.random.permutation(m))    #Randomly permute a sequence\n",
    "    shuffled_X = X[:, permutation]      #Shuffles examples column-wise\n",
    "    shuffled_Y = Y[:, permutation].reshape((1, m))\n",
    "    \n",
    "    #Step 2: Partition (shuffled_X, shuffled_Y). Minus the end case.\n",
    "    num_complete_batches = math.floor(m/mini_batch_size) #Number of mini batches of size mini_batch_size in your partioning.\n",
    "    for k in range(0, num_complete_batches):\n",
    "        mini_batch_X = shuffled_X[:, k * mini_batch_size: (k+1) * mini_batch_size]\n",
    "        mini_batch_Y = shuffled_Y[:, k * mini_batch_size: (k+1) * mini_batch_size]\n",
    "        \n",
    "        mini_batch = (mini_batch_X, mini_batch_Y)\n",
    "        mini_batches.append(mini_batch)\n",
    "        \n",
    "    #Handline the end case (last mini-batch < mini_batch_size)\n",
    "    if m % mini_batch_size != 0:\n",
    "        #end = m - mini_batch_size * math.floor(m / mini_batch_size)\n",
    "        mini_batch_X = shuffled_X[:, num_complete_batches * mini_batch_size:]\n",
    "        mini_batch_Y = shuffled_Y[:, num_complete_batches * mini_batch_size:]\n",
    "        \n",
    "        mini_batch = (mini_batch_X, mini_batch_Y)\n",
    "        mini_batches.append(mini_batch)\n",
    "        \n",
    "    return mini_batches"
   ]
  },
  {
   "cell_type": "code",
   "execution_count": 4,
   "metadata": {},
   "outputs": [],
   "source": [
    "def initialize_parameters(layer_dims):\n",
    "    \"\"\"\n",
    "    Arguments:\n",
    "    layer_dims -- python array (list) containing the dimensions of each layer in our network\n",
    "    n_x - size of input layer\n",
    "    n_h - size of hidden layer\n",
    "    n_y - size of output layer\n",
    "    \n",
    "    Returns:\n",
    "    parameters -- python dictionary containing your parameters \"W1\", \"b1\", ..., \"WL\", \"bL\":\n",
    "                    Wl -- weight matrix of shape (layer_dims[l], layer_dims[l-1])\n",
    "                    bl -- bias vector of shape (layer_dims[l], 1)\n",
    "    \"\"\"\n",
    "    \n",
    "    parameters = {}\n",
    "    L = len(layer_dims)            # number of layers in the network\n",
    "\n",
    "    for l in range(1, L):\n",
    "        parameters['W' + str(l)] = np.random.randn(layer_dims[l], layer_dims[l - 1]) * 0.01\n",
    "        parameters['b' + str(l)] = np.zeros((layer_dims[l], 1))\n",
    "                \n",
    "    return parameters"
   ]
  },
  {
   "cell_type": "code",
   "execution_count": 5,
   "metadata": {},
   "outputs": [],
   "source": [
    "def softmax(Z):\n",
    "    return np.exp(Z)/np.sum(np.exp(Z),axis = 0)  #A.shape = (n_y, m)\n",
    "    #return np.argmax(A,axis = 0).reshape(1, A.shape[1]) #Output shape = (1, m)"
   ]
  },
  {
   "cell_type": "code",
   "execution_count": 6,
   "metadata": {},
   "outputs": [],
   "source": [
    "def forward_propagation(X, parameters):\n",
    "    '''\n",
    "    Parameters:\n",
    "    X - Input data of size (n_x, m)\n",
    "    parameters - python dictionary containing the parameters of the model\n",
    "    \n",
    "    Returns:\n",
    "    A2 - The softmax output of the output layer activation\n",
    "    cache - a dictionary containing \"Z1\", \"A1\", \"Z2\" and \"A2\"\n",
    "    '''\n",
    "    \n",
    "    #Retrieve parameters from the dictionary parameters\n",
    "    W1 = parameters['W1']\n",
    "    b1 = parameters['b1']\n",
    "    W2 = parameters['W2']\n",
    "    b2 = parameters['b2']\n",
    "    \n",
    "    #Forward propagation\n",
    "    Z1 = np.dot(W1,X) + b1\n",
    "    A1 = Z1\n",
    "    Z2 = np.dot(W2,A1) + b2\n",
    "    A2 = softmax(Z2)\n",
    "    \n",
    "    cache = {\"Z1\": Z1,\n",
    "             \"A1\": A1,\n",
    "             \"Z2\": Z2,\n",
    "             \"A2\": A2\n",
    "            }\n",
    "    \n",
    "    return A2, cache"
   ]
  },
  {
   "cell_type": "code",
   "execution_count": 7,
   "metadata": {},
   "outputs": [],
   "source": [
    "def compute_cost(A2, Y):\n",
    "    '''\n",
    "    Parameters:\n",
    "    A2 - The activation of the output layer of size (n_y, m)\n",
    "    Y - True labels of size (1, m)\n",
    "    \n",
    "    Returns:\n",
    "    cost - cross entropy cost given parameters\n",
    "    '''\n",
    "    \n",
    "    #compute the cross entropy cost\n",
    "    m = Y.shape[1]\n",
    "    cost = -np.squeeze((np.sum(np.log(A2[Y,np.arange(A2.shape[1])]))))/m\n",
    "    \n",
    "    return cost\n",
    "    "
   ]
  },
  {
   "cell_type": "code",
   "execution_count": 8,
   "metadata": {},
   "outputs": [],
   "source": [
    "def backward_propagation(X, Y, cache, parameters):\n",
    "    '''\n",
    "    Parameters:\n",
    "    parameters - dictionary containing the parameters of the model\n",
    "    cache - dictionary containing 'Z1', 'A1', 'Z2', 'A2'\n",
    "    X - Input data of size (n_x, m)\n",
    "    Y - True labels of size (1, m)\n",
    "    \n",
    "    Returns:\n",
    "    grads - dictionary containing gradients w.r.t to different parameters\n",
    "    '''\n",
    "    \n",
    "    m = X.shape[1]\n",
    "    \n",
    "    W1 = parameters['W1']\n",
    "    W2 = parameters['W2']\n",
    "    \n",
    "    A1 = cache['A1']\n",
    "    A2 = cache['A2']\n",
    "    \n",
    "    # Backward propagation: calculate dW1, db1, dW2, db2. \n",
    "    Y = np.array([[1 if j == i else k for j, k in enumerate([0 for a in range(10)])] for i in Y.reshape(-1)]).T   #Converts the true label vectors from (1, m) to (n_y, m)\n",
    "    dZ2 = A2 - Y \n",
    "    dW2 = np.dot(dZ2, A1.T)/m\n",
    "    db2 = np.sum(dZ2, axis = 1, keepdims=True)/m\n",
    "    dZ1 = np.dot(W2.T, dZ2)/m\n",
    "    dW1 = np.dot(dZ1,X.T)/m\n",
    "    db1 = np.sum(dZ1, axis = 1, keepdims = True)/m\n",
    "    \n",
    "    grads = {\"dW1\": dW1,\n",
    "             \"db1\": db1,\n",
    "             \"dW2\": dW2,\n",
    "             \"db2\": db2\n",
    "            }\n",
    "    \n",
    "    return grads"
   ]
  },
  {
   "cell_type": "code",
   "execution_count": 9,
   "metadata": {},
   "outputs": [],
   "source": [
    "def update_parameters(parameters, grads, learning_rate = 0.01):\n",
    "    '''\n",
    "    Parameters:\n",
    "    parameters - dictionary containing parameters of the model\n",
    "    grads - dictionary containing gradients w.r.t. to the parameters of the model\n",
    "    \n",
    "    Returns:\n",
    "    parameters: dictionary containing updated parameters of the model\n",
    "    '''\n",
    "    \n",
    "    L = len(parameters) // 2\n",
    "    for l in range(1,L+1):\n",
    "        parameters['W'+str(l)] = parameters['W'+str(l)] - learning_rate * grads['dW'+str(l)]\n",
    "        parameters['b'+str(l)] = parameters['b'+str(l)] - learning_rate * grads['db'+str(l)]\n",
    "        \n",
    "    return parameters"
   ]
  },
  {
   "cell_type": "code",
   "execution_count": 21,
   "metadata": {},
   "outputs": [],
   "source": [
    "def mlp(X, Y, num_iterations = 10, learning_rate=0.01, mini_batch_size = 5, print_cost = False):\n",
    "    '''\n",
    "    Parameters:\n",
    "    X - input data of size (n_x, m)\n",
    "    Y - True labels of size (1, m)\n",
    "    num_iterations - number of epochs for the training of the model\n",
    "    print_cost - if True print the cost for every 10 iterations\n",
    "    \n",
    "    Returns:\n",
    "    parameters - parameters learned by the model. They can be used to predict later.\n",
    "    '''\n",
    "    layers_dims = [X.shape[0], 1000, 10]\n",
    "    parameters = initialize_parameters(layers_dims)\n",
    "    costs = []\n",
    "    \n",
    "    for i in range(0, num_iterations):\n",
    "        \n",
    "        minibatches = random_mini_batches(X, Y, mini_batch_size, 0)\n",
    "        \n",
    "        for minibatch in minibatches:\n",
    "            \n",
    "            (minibatch_X, minibatch_Y) = minibatch\n",
    "        \n",
    "            A2, cache = forward_propagation(minibatch_X, parameters)\n",
    "            \n",
    "            cost = compute_cost(A2, minibatch_Y)\n",
    "            \n",
    "            grads = backward_propagation(minibatch_X, minibatch_Y, cache, parameters)\n",
    "            \n",
    "            parameters = update_parameters(parameters, grads)\n",
    "            \n",
    "        if print_cost and i % 1 == 0:\n",
    "            costs.append(cost)\n",
    "        if print_cost and i % 1 == 0:\n",
    "                print (\"Cost after iteration %i: %f\" % (i, cost))\n",
    "    plt.plot(np.squeeze(costs))\n",
    "    plt.ylabel('cost')\n",
    "    plt.xlabel('iterations (per tens)')\n",
    "    plt.title(\"Learning rate =\" + str(learning_rate))\n",
    "    plt.show()\n",
    "    \n",
    "    with open('model.pkl', 'wb') as handle:\n",
    "        pickle.dump(parameters, handle, protocol=pickle.HIGHEST_PROTOCOL)\n",
    "\n",
    "                \n",
    "    return parameters \n",
    "    \n",
    "    "
   ]
  },
  {
   "cell_type": "code",
   "execution_count": 18,
   "metadata": {},
   "outputs": [],
   "source": [
    "def predict(parameters, X):\n",
    "    '''\n",
    "    Parameters:\n",
    "    parameters - dictionary containing the parameters of the model.\n",
    "    X - Input data of size (n_x, m)\n",
    "    \n",
    "    Returns:\n",
    "    predictions - vector of predictions of our model of size (1, m)\n",
    "    '''\n",
    "    \n",
    "    A2, cache = forward_propagation(X, parameters)\n",
    "    predictions = np.argmax(A2, axis = 0).reshape(1, A2.shape[1])\n",
    "    \n",
    "    return predictions"
   ]
  },
  {
   "cell_type": "code",
   "execution_count": 19,
   "metadata": {},
   "outputs": [
    {
     "name": "stdout",
     "output_type": "stream",
     "text": [
      "(784, 50000) (1, 50000) (784, 10000) (1, 10000) (784, 10000) (1, 10000)\n"
     ]
    }
   ],
   "source": [
    "Xtrain, Ytrain, Xvalid, Yvalid, Xtest, Ytest = load_dataset('mnist.pkl.gz')\n",
    "print(Xtrain.shape, Ytrain.shape,Xvalid.shape, Yvalid.shape, Xtest.shape, Ytest.shape)"
   ]
  },
  {
   "cell_type": "code",
   "execution_count": 23,
   "metadata": {},
   "outputs": [
    {
     "name": "stdout",
     "output_type": "stream",
     "text": [
      "Cost after iteration 0: 0.020517\n"
     ]
    },
    {
     "name": "stdout",
     "output_type": "stream",
     "text": [
      "Cost after iteration 1: 0.015128\n"
     ]
    },
    {
     "name": "stdout",
     "output_type": "stream",
     "text": [
      "Cost after iteration 2: 0.015050\n"
     ]
    },
    {
     "name": "stdout",
     "output_type": "stream",
     "text": [
      "Cost after iteration 3: 0.015258\n"
     ]
    },
    {
     "name": "stdout",
     "output_type": "stream",
     "text": [
      "Cost after iteration 4: 0.015324\n"
     ]
    },
    {
     "name": "stdout",
     "output_type": "stream",
     "text": [
      "Cost after iteration 5: 0.015268\n"
     ]
    },
    {
     "name": "stdout",
     "output_type": "stream",
     "text": [
      "Cost after iteration 6: 0.015131\n"
     ]
    },
    {
     "name": "stdout",
     "output_type": "stream",
     "text": [
      "Cost after iteration 7: 0.014945\n"
     ]
    },
    {
     "name": "stdout",
     "output_type": "stream",
     "text": [
      "Cost after iteration 8: 0.014727\n"
     ]
    },
    {
     "name": "stdout",
     "output_type": "stream",
     "text": [
      "Cost after iteration 9: 0.014492\n"
     ]
    },
    {
     "data": {
      "image/png": "[encoded data removed]",
      "text/plain": [
       "<Figure size 432x288 with 1 Axes>"
      ]
     },
     "metadata": {},
     "output_type": "display_data"
    }
   ],
   "source": [
    "parameters = mlp(Xtrain, Ytrain, num_iterations=10, learning_rate=0.01, mini_batch_size= 5, print_cost=True)"
   ]
  },
  {
   "cell_type": "code",
   "execution_count": 24,
   "metadata": {},
   "outputs": [],
   "source": [
    "def test(Xvalid, Yvalid, parameters):\n",
    "\n",
    "    test_loss, test_acc, test_count = 0,0,0\n",
    "\n",
    "    predictions = predict(parameters, Xvalid)\n",
    "    \n",
    "    test_acc += np.sum(predictions == Yvalid)\n",
    "    \n",
    "    #test_loss = test_loss / test_count\n",
    "    test_acc = test_acc / Xvalid.shape[1]\n",
    "\n",
    "    print('\\nTest Accuracy = ' + str(test_acc))"
   ]
  },
  {
   "cell_type": "code",
   "execution_count": 25,
   "metadata": {},
   "outputs": [
    {
     "name": "stdout",
     "output_type": "stream",
     "text": [
      "\nTest Accuracy = 0.9273\n"
     ]
    }
   ],
   "source": [
    "with open('model.pkl', 'rb') as handle:\n",
    "    parameters = pickle.load(handle)\n",
    "test(Xvalid, Yvalid, parameters)"
   ]
  },
  {
   "cell_type": "code",
   "execution_count": null,
   "metadata": {},
   "outputs": [],
   "source": []
  }
 ],
 "metadata": {
  "kernelspec": {
   "display_name": "Python 3",
   "language": "python",
   "name": "python3"
  },
  "language_info": {
   "codemirror_mode": {
    "name": "ipython",
    "version": 3
   },
   "file_extension": ".py",
   "mimetype": "text/x-python",
   "name": "python",
   "nbconvert_exporter": "python",
   "pygments_lexer": "ipython3",
   "version": "3.5.2"
  }
 },
 "nbformat": 4,
 "nbformat_minor": 1
}
